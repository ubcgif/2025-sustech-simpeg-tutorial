{
 "cells": [
  {
   "cell_type": "markdown",
   "metadata": {},
   "source": [
    "# Forward simulations \n",
    "\n",
    "In this notebook, we use a synthetic example to explore aspects of numerical modelling, including mesh design, as well as exploring aspects of the fundamental physics, including viewing the currents, charges and potentials from conductive and resistive targets. "
   ]
  },
  {
   "cell_type": "markdown",
   "metadata": {},
   "source": [
    "## Step 0: Imports and load survey info\n",
    "\n",
    "These initial steps are the same as in the previous notebook. "
   ]
  },
  {
   "cell_type": "code",
   "execution_count": null,
   "metadata": {},
   "outputs": [],
   "source": [
    "# core python \n",
    "import numpy as np\n",
    "import matplotlib.pyplot as plt\n",
    "from matplotlib.colors import LogNorm, SymLogNorm, Normalize\n",
    "import ipywidgets\n",
    "\n",
    "# tools in the simPEG Ecosystem \n",
    "import discretize  # for creating computational meshes\n",
    "\n",
    "# SimPEG inversion machinery\n",
    "from simpeg import Data, maps\n",
    "from simpeg.utils.solver_utils import get_default_solver\n",
    "\n",
    "# DC resistivity and IP modules\n",
    "from simpeg.electromagnetics import resistivity as dc\n",
    "from simpeg.electromagnetics.static.utils import (\n",
    "    plot_pseudosection,\n",
    "    apparent_resistivity_from_voltage,\n",
    ")\n",
    "\n",
    "# our own data importer \n",
    "from my_utils import read_dcip_data"
   ]
  },
  {
   "cell_type": "code",
   "execution_count": null,
   "metadata": {},
   "outputs": [],
   "source": [
    "# set the font size in the plots\n",
    "from matplotlib import rcParams\n",
    "rcParams[\"font.size\"] = 12"
   ]
  },
  {
   "cell_type": "code",
   "execution_count": null,
   "metadata": {},
   "outputs": [],
   "source": [
    "# set the solver as default solver \n",
    "Solver = get_default_solver()"
   ]
  },
  {
   "cell_type": "markdown",
   "metadata": {},
   "source": [
    "## Step 1: Load DC survey\n",
    "\n",
    "As in the first notebook, we load up the survey geometry from our data file and create a SimPEG survey object.  "
   ]
  },
  {
   "cell_type": "code",
   "execution_count": null,
   "metadata": {},
   "outputs": [],
   "source": [
    "line = \"46800E\"\n",
    "\n",
    "dc_data_file = f\"./century/{line}/{line[:-1]}POT.OBS\""
   ]
  },
  {
   "cell_type": "code",
   "execution_count": null,
   "metadata": {},
   "outputs": [],
   "source": [
    "dc_data_dict = read_dcip_data(dc_data_file, verbose=False)"
   ]
  },
  {
   "cell_type": "code",
   "execution_count": null,
   "metadata": {},
   "outputs": [],
   "source": [
    "# initialize an empty list for each \n",
    "source_list = []\n",
    "\n",
    "# center the survey and work in local coordinates\n",
    "x_local = 0.5*(np.min(dc_data_dict[\"a_locations\"]) + np.max(np.hstack(dc_data_dict[\"n_locations\"])))\n",
    "\n",
    "for i in range(dc_data_dict[\"n_sources\"]):\n",
    "    \n",
    "    # receiver electrode locations in 2D \n",
    "    m_locs = np.vstack([\n",
    "        dc_data_dict[\"m_locations\"][i] - x_local, \n",
    "        np.zeros_like(dc_data_dict[\"m_locations\"][i])\n",
    "    ]).T\n",
    "    n_locs = np.vstack([\n",
    "        dc_data_dict[\"n_locations\"][i] - x_local,\n",
    "        np.zeros_like(dc_data_dict[\"n_locations\"][i])\n",
    "    ]).T\n",
    "    \n",
    "    # construct the receiver object \n",
    "    receivers = dc.receivers.Dipole(locations_m=m_locs, locations_n=n_locs, storeProjections=False)\n",
    "    \n",
    "    # construct the source \n",
    "    source = dc.sources.Dipole(\n",
    "        location_a=np.r_[dc_data_dict[\"a_locations\"][i] - x_local, 0.],\n",
    "        location_b=np.r_[dc_data_dict[\"b_locations\"][i] - x_local, 0.],\n",
    "        receiver_list=[receivers]\n",
    "    )\n",
    "    \n",
    "    # append the new source to the source list\n",
    "    source_list.append(source)"
   ]
  },
  {
   "cell_type": "code",
   "execution_count": null,
   "metadata": {},
   "outputs": [],
   "source": [
    "survey = dc.Survey(source_list=source_list)"
   ]
  },
  {
   "cell_type": "markdown",
   "metadata": {},
   "source": [
    "## Exploration 1: how does mesh design impact accuracy? \n",
    "\n",
    "In what follows, we will build up several functions that allow us to design a mesh and compare the simulated apparent resistivity and the true half-space resistivity in order to assess the mesh design. "
   ]
  },
  {
   "cell_type": "code",
   "execution_count": null,
   "metadata": {},
   "outputs": [],
   "source": [
    "def build_mesh(\n",
    "    survey, \n",
    "    n_cells_per_spacing_x=4,\n",
    "    n_cells_per_spacing_z=4,\n",
    "    n_core_extra_x=4,\n",
    "    n_core_extra_z=4,\n",
    "    core_domain_z_ratio=1/3.,\n",
    "    padding_factor=1.3,\n",
    "    n_pad_x=10,\n",
    "    n_pad_z=10,\n",
    "):\n",
    "    \"\"\"\n",
    "    A function for designing a Tensor Mesh based on DC survey parameters\n",
    "    \n",
    "    Parameters\n",
    "    ----------\n",
    "    \n",
    "    survey: dc.Survey \n",
    "        A DC (or IP) survey object\n",
    "    \n",
    "    n_cells_per_spacing_[x, z]: int\n",
    "        Number of [x, z]-cells per the minimum electrode spacing\n",
    "        \n",
    "    n_core_extra_[x, z]: int\n",
    "        Number of extra cells with the same size as the core domain beyond the survey extent\n",
    "    \n",
    "    core_domain_z_ratio: float\n",
    "        Factor that multiplies the maximum AB, MN separation to define the core mesh extent\n",
    "    \n",
    "    padding_factor: float\n",
    "        Factor by which we expand the mesh cells in the padding region\n",
    "    \n",
    "    n_pad_[x, z]: int\n",
    "        Number of padding cells in the x, z directions\n",
    "    \"\"\"\n",
    "    min_electrode_spacing = np.min(np.abs(survey.locations_a[:, 0] - survey.locations_b[:, 0]))\n",
    "\n",
    "    dx = min_electrode_spacing / n_cells_per_spacing_x\n",
    "    dz = min_electrode_spacing / n_cells_per_spacing_z\n",
    "    \n",
    "    # define the x core domain\n",
    "    core_domain_x = np.r_[\n",
    "        survey.unique_electrode_locations[:, 0].min(),\n",
    "        survey.unique_electrode_locations[:, 0].max()\n",
    "    ]\n",
    "    \n",
    "    # find the y core domain\n",
    "    # find the maximum spacing between source, receiver midpoints\n",
    "    mid_ab = (survey.locations_a + survey.locations_b)/2\n",
    "    mid_mn = (survey.locations_m + survey.locations_n)/2\n",
    "    separation_ab_mn = np.abs(mid_ab - mid_mn)\n",
    "    max_separation = separation_ab_mn.max()\n",
    "    core_domain_z = np.r_[-core_domain_z_ratio * max_separation, 0.]\n",
    "    \n",
    "    # add extra cells beyond the core domain\n",
    "    n_core_x = np.ceil(np.diff(core_domain_x)/dx) + n_core_extra_x*2  # on each side\n",
    "    n_core_z = np.ceil(np.diff(core_domain_z)/dz) + n_core_extra_z  # just below\n",
    "    \n",
    "    # define the tensors in each dimension\n",
    "    hx = [(dx, n_pad_x, -padding_factor), (dx, n_core_x), (dx, n_pad_x, padding_factor)]\n",
    "    hz = [(dz, n_pad_z, -padding_factor), (dz, n_core_z)]\n",
    "\n",
    "    mesh = discretize.TensorMesh([hx, hz], x0=\"CN\")\n",
    "\n",
    "    return mesh, core_domain_x, core_domain_z"
   ]
  },
  {
   "cell_type": "code",
   "execution_count": null,
   "metadata": {},
   "outputs": [],
   "source": [
    "mesh, core_domain_x, core_domain_z = build_mesh(survey)\n",
    "mesh.plot_grid()"
   ]
  },
  {
   "cell_type": "code",
   "execution_count": null,
   "metadata": {},
   "outputs": [],
   "source": [
    "mesh"
   ]
  },
  {
   "cell_type": "code",
   "execution_count": null,
   "metadata": {},
   "outputs": [],
   "source": [
    "def forward_simulation_halfspace(mesh, survey=survey, resistivity=100, nky=11):\n",
    "    \"\"\"\n",
    "    A function that  returns predicted data given a mesh, survey, \n",
    "    resistivity value and number of filters for the 2.5 DC simulation. \n",
    "    \"\"\"\n",
    "    # clear the stored source values if they were previously computed \n",
    "    for src in survey.source_list:\n",
    "        src._q = None\n",
    "        \n",
    "    rho = resistivity * np.ones(mesh.nC)\n",
    "    simulation_dc = dc.Simulation2DNodal(\n",
    "        mesh, rhoMap=maps.IdentityMap(mesh), solver=Solver, \n",
    "        survey=survey, nky=nky\n",
    "    )\n",
    "    dpred = simulation_dc.make_synthetic_data(rho)\n",
    "    \n",
    "    # clear the stored source values if they were previously computed \n",
    "    for src in survey.source_list:\n",
    "        src._q = None\n",
    "    \n",
    "    return dpred"
   ]
  },
  {
   "cell_type": "code",
   "execution_count": null,
   "metadata": {},
   "outputs": [],
   "source": [
    "def plot_apparent_resistivities(dpred, halfspace_resistivity):\n",
    "    \"\"\"\n",
    "    Plot the apparent resistivity given a SimPEG data object \n",
    "    and the true halfspace resistivity. \n",
    "\n",
    "    \"\"\"\n",
    "    \n",
    "    # plot psuedosection\n",
    "    fig = plt.figure(constrained_layout=True, figsize=(12, 4))\n",
    "    gs = fig.add_gridspec(ncols=3, nrows=1)\n",
    "\n",
    "    ax0 = fig.add_subplot(gs[:2])\n",
    "    ax1 = fig.add_subplot(gs[2])\n",
    "\n",
    "    # plot the pseudosection\n",
    "    rhoa_plot = apparent_resistivity_from_voltage(dpred.survey, dpred.dobs)\n",
    "    plot_pseudosection(\n",
    "        dpred, dobs=rhoa_plot, # clim=clim,\n",
    "        data_locations=True, ax=ax0, \n",
    "        cbar_label=\"Apparent Resistivities ($\\Omega$m)\"\n",
    "    )\n",
    "    ax0.set_aspect(2)  # some vertical exxageration\n",
    "    ax0.set_title(f\"{line} Pseudosection\")\n",
    "    ax0.set_xlabel(\"Northing (m)\")\n",
    "    ax0.set_yticks([])\n",
    "\n",
    "    # plot the errors in apparent resistivity relative to separation\n",
    "    mid_ab = (survey.locations_a + survey.locations_b)/2\n",
    "    mid_mn = (survey.locations_m + survey.locations_n)/2\n",
    "    separation_ab_mn = np.abs(mid_ab - mid_mn)\n",
    "    apparent_resistivity = apparent_resistivity_from_voltage(dpred.survey, dpred.dobs)\n",
    "    percent_error = (apparent_resistivity - halfspace_resistivity)/halfspace_resistivity*100\n",
    "\n",
    "    ax1.plot(separation_ab_mn[:, 0], percent_error, '.', alpha=0.4)\n",
    "    ax1.set_xlabel(\"AB - MN separation\")\n",
    "    ax1.set_ylabel(\"percent difference (%)\")\n",
    "    ax1.set_title(\"Error in apparent resistivities\")\n",
    "    ax1.grid(alpha=0.3)\n"
   ]
  },
  {
   "cell_type": "code",
   "execution_count": null,
   "metadata": {},
   "outputs": [],
   "source": [
    "halfspace_resistivity = 100\n",
    "dpred = forward_simulation_halfspace(mesh, resistivity=halfspace_resistivity)\n",
    "plot_apparent_resistivities(dpred, halfspace_resistivity)"
   ]
  },
  {
   "cell_type": "code",
   "execution_count": null,
   "metadata": {},
   "outputs": [],
   "source": [
    "def mesh_design_simulator(\n",
    "    survey=survey, \n",
    "    n_cells_per_spacing_x=4,\n",
    "    n_cells_per_spacing_z=4,\n",
    "    n_core_extra_x=4,\n",
    "    n_core_extra_z=4,\n",
    "    core_domain_z_ratio=1/3.,\n",
    "    padding_factor=1.3,\n",
    "    n_pad_x=10,\n",
    "    n_pad_z=10,\n",
    "    log10_halfspace_resistivity=2,\n",
    "    nky=11,\n",
    "):\n",
    "    \"\"\"\n",
    "    A function that brings together mesh design and forward simulation so \n",
    "    that we can interactively explore factors of mesh design that influence \n",
    "    the accuracy of our simulation. \n",
    "    \"\"\"\n",
    "    \n",
    "    # set up mesh \n",
    "    mesh, core_domain_x, core_domain_z = build_mesh(\n",
    "        survey=survey, \n",
    "        n_cells_per_spacing_x=n_cells_per_spacing_x,\n",
    "        n_cells_per_spacing_z=n_cells_per_spacing_z,\n",
    "        n_core_extra_x=n_core_extra_x,\n",
    "        n_core_extra_z=n_core_extra_z,\n",
    "        core_domain_z_ratio=core_domain_z_ratio,\n",
    "        padding_factor=padding_factor,\n",
    "        n_pad_x=n_pad_x,\n",
    "        n_pad_z=n_pad_z,\n",
    "    )\n",
    "    \n",
    "    # convert the log10 resistivity to true resistivity on the mesh\n",
    "    halfspace_resistivity = 10**log10_halfspace_resistivity \n",
    "    \n",
    "    # compute predicted data\n",
    "    dpred = forward_simulation_halfspace(mesh, resistivity=halfspace_resistivity, nky=nky)\n",
    "    \n",
    "    # plot those apparent resistivities \n",
    "    plot_apparent_resistivities(dpred, halfspace_resistivity)"
   ]
  },
  {
   "cell_type": "code",
   "execution_count": null,
   "metadata": {},
   "outputs": [],
   "source": [
    "mesh_design_app = ipywidgets.interactive(\n",
    "    mesh_design_simulator,\n",
    "    survey=ipywidgets.fixed(survey),\n",
    "    n_cells_per_spacing_x=ipywidgets.IntSlider(\n",
    "        description=\"nCx p. 100m\", min=1, max=10, value=4, continuous_update=False\n",
    "    ),\n",
    "    n_cells_per_spacing_z=ipywidgets.IntSlider(\n",
    "        description=\"nCz p. 100m\", min=1, max=10, value=4, continuous_update=False\n",
    "    ),\n",
    "    n_core_extra_x=ipywidgets.IntSlider(\n",
    "        description=\"ncore x +\", min=0, max=10, value=4, continuous_update=False\n",
    "    ),\n",
    "    n_core_extra_z=ipywidgets.IntSlider(\n",
    "        description=\"ncore z +\", min=0, max=10, value=4, continuous_update=False\n",
    "    ),\n",
    "    core_domain_z_ratio=ipywidgets.FloatSlider(\n",
    "        description=\"Dz*maxABMN\", min=0.1, max=1, value=0.3, continuous_update=False\n",
    "    ),\n",
    "    padding_factor=ipywidgets.FloatSlider(\n",
    "        description=\"pad factor\", min=1, max=5, value=1.3, continuous_update=False\n",
    "    ),\n",
    "    n_pad_x=ipywidgets.IntSlider(\n",
    "        min=1, max=20, value=10, continuous_update=False\n",
    "    ),\n",
    "    n_pad_z=ipywidgets.IntSlider(\n",
    "        min=1, max=20, value=10, continuous_update=False\n",
    "    ),\n",
    "    log10_halfspace_resistivity=ipywidgets.FloatSlider(\n",
    "        description=\"$log_{10}\\\\rho$\", min=-1, max=7, value=2, continuous_update=False\n",
    "    ),\n",
    "    nky=ipywidgets.IntSlider(\n",
    "        min=1, max=20, value=11, continuous_update=False\n",
    "    )\n",
    ")"
   ]
  },
  {
   "cell_type": "markdown",
   "metadata": {},
   "source": [
    "#### Questions: Mesh design\n",
    "\n",
    "- Which offsets are most affected if we change the number of cells per electrode spacing (the sliders labeled: `nCx p. 100m`, `nCz p. 100m`)?\n",
    "- What about if we change the padding? \n",
    "- What happens if we reduce the number of padding cells but increase the padding factor? "
   ]
  },
  {
   "cell_type": "code",
   "execution_count": null,
   "metadata": {},
   "outputs": [],
   "source": [
    "mesh_design_app"
   ]
  },
  {
   "cell_type": "markdown",
   "metadata": {},
   "source": [
    "## Exploration 2: the physics\n",
    "\n",
    "Forward simulations can be a powerful tool for building up understanding and intuition for a given geophysical experiment. In SimPEG, we expose the ability to access the fields and fluxes computed in a simulation through the `fields` object that contains the solution to the PDE everywhere on the mesh. This is an intermediate step when computing predicted data, and in an inversion, we would typically not store them. \n",
    "\n",
    "Here, we build up a simple synthetic model that includes 2 blocks, one resistive and one conductive, in a halfspace. We will visualize the currents, charges and electric fields. "
   ]
  },
  {
   "cell_type": "markdown",
   "metadata": {},
   "source": [
    "### Define the model"
   ]
  },
  {
   "cell_type": "code",
   "execution_count": null,
   "metadata": {},
   "outputs": [],
   "source": [
    "# define the resistivities\n",
    "rho_background = 100\n",
    "rho_resistive_block = 1000\n",
    "rho_conductive_block = 10\n",
    "\n",
    "# define the geometry of each block\n",
    "xlim_resistive_block = np.r_[-500, -250]\n",
    "zlim_resistive_block = np.r_[-250, -100]\n",
    "\n",
    "xlim_conductive_block = np.r_[250, 500]\n",
    "zlim_conductive_block = np.r_[-250, -100]"
   ]
  },
  {
   "cell_type": "markdown",
   "metadata": {},
   "source": [
    "### Put the model on the mesh\n",
    "\n",
    "For the simulation, we define physical properties on the cell centers of the mesh. In `discretize`, once we have created a mesh, the cell-centered grid is accessible through the `gridCC` property. Columns correspond to each of the dimensions, so the shape of `gridCC` is (number of cells, number of dimensions). "
   ]
  },
  {
   "cell_type": "code",
   "execution_count": null,
   "metadata": {},
   "outputs": [],
   "source": [
    "rho = rho_background * np.ones(mesh.nC)\n",
    "\n",
    "# resistive block\n",
    "inds_resistive_block = (\n",
    "    (mesh.gridCC[:, 0] >= xlim_resistive_block.min()) & (mesh.gridCC[:, 0] <= xlim_resistive_block.max()) &\n",
    "    (mesh.gridCC[:, 1] >= zlim_resistive_block.min()) & (mesh.gridCC[:, 1] <= zlim_resistive_block.max())\n",
    ")\n",
    "\n",
    "rho[inds_resistive_block] = rho_resistive_block\n",
    "\n",
    "# conductive block\n",
    "inds_conductive_block = (\n",
    "    (mesh.gridCC[:, 0] >= xlim_conductive_block.min()) & (mesh.gridCC[:, 0] <= xlim_conductive_block.max()) &\n",
    "    (mesh.gridCC[:, 1] >= zlim_conductive_block.min()) & (mesh.gridCC[:, 1] <= zlim_conductive_block.max())\n",
    ")\n",
    "\n",
    "rho[inds_conductive_block] = rho_conductive_block"
   ]
  },
  {
   "cell_type": "code",
   "execution_count": null,
   "metadata": {},
   "outputs": [],
   "source": [
    "fig, ax = plt.subplots(1, 1, figsize=(12, 4))\n",
    "out = mesh.plotImage(np.log10(rho), ax=ax)\n",
    "plt.colorbar(out[0], ax=ax, label=\"log$_{10} \\\\rho$\")\n",
    "ax.set_xlim(core_domain_x)\n",
    "ax.set_ylim(core_domain_z + np.r_[-100, 0])\n",
    "ax.set_aspect(1.5)"
   ]
  },
  {
   "cell_type": "markdown",
   "metadata": {},
   "source": [
    "### Set up the forward simulation\n",
    "\n",
    "As in the [previous notebook](1-century-dcip-inversion.ipynb), we set up a forward simulation. In this case, we use an `IdentityMap` for the mapping, so we directly provide resistivity values to the forward simulation. In order to be able to explore the impact of both the blocks on our measured data, we will run simulations for both the halfspace background and for the model containing two blocks. "
   ]
  },
  {
   "cell_type": "code",
   "execution_count": null,
   "metadata": {},
   "outputs": [],
   "source": [
    "mapping = maps.IdentityMap(mesh)\n",
    "\n",
    "# Generate 2.5D DC problem\n",
    "simulation_dc = dc.Simulation2DNodal(\n",
    "    mesh, rhoMap=mapping, solver=Solver, survey=survey\n",
    ")"
   ]
  },
  {
   "cell_type": "code",
   "execution_count": null,
   "metadata": {},
   "outputs": [],
   "source": [
    "%%time \n",
    "\n",
    "# run the forward simulation over the half-space \n",
    "model_background = rho_background * np.ones(mesh.nC)\n",
    "fields_background = simulation_dc.fields(model_background)\n",
    "synthetic_data_background = simulation_dc.make_synthetic_data(model_background, f=fields_background)"
   ]
  },
  {
   "cell_type": "code",
   "execution_count": null,
   "metadata": {},
   "outputs": [],
   "source": [
    "%%time \n",
    "\n",
    "# run the forward simulation over the full model\n",
    "fields = simulation_dc.fields(rho)\n",
    "synthetic_data = simulation_dc.make_synthetic_data(rho, f=fields)"
   ]
  },
  {
   "cell_type": "code",
   "execution_count": null,
   "metadata": {},
   "outputs": [],
   "source": [
    "# plot both pseudosections \n",
    "fig, ax = plt.subplots(2, 1, figsize=(12, 6))\n",
    "\n",
    "for a, plot_data, title in zip(\n",
    "    ax, [synthetic_data_background, synthetic_data], [\"background\", \"blocks\"]\n",
    "):\n",
    "    \n",
    "    # plot a psuedosection of the data\n",
    "    rhoa_plot = apparent_resistivity_from_voltage(plot_data.survey, plot_data.dobs)\n",
    "    plot_pseudosection(\n",
    "        plot_data, rhoa_plot,\n",
    "        data_location=True, ax=a, \n",
    "    )\n",
    "    a.set_title(f\"{title} Pseudosection\")\n",
    "    a.set_xlim(core_domain_x)\n",
    "    a.set_aspect(1.5)  # some vertical exxageration\n",
    "    a.set_xlabel(\"Northing (m)\")\n",
    "\n",
    "plt.tight_layout()\n"
   ]
  },
  {
   "cell_type": "markdown",
   "metadata": {},
   "source": [
    "### Define a plotting function to visualize aspects of the physics\n",
    "\n",
    "In a Nodal discretization for the DC problem: \n",
    "- physical properties are at cell centers (CC)\n",
    "- charge density is at cell centers (CC)\n",
    "- electric potentials (`phi`) are at cell nodes (N)\n",
    "- electric fields (`e`) are on cell edges (E)\n",
    "- current density (`j`) is on cell edges (E)\n",
    "\n",
    "For plotting purposes, we will average to cell centers. To average the scalar `phi` values from nodes to cell centers, we use the `aveN2CC` operator. To average vector quantities (`e`, `j`) to cell centers, we use the `aveE2CCV` operator (`V` for vector). \n"
   ]
  },
  {
   "cell_type": "code",
   "execution_count": null,
   "metadata": {},
   "outputs": [],
   "source": [
    "def plot_physics(field=\"phi\", primsec=\"total\", scale=\"linear\", source_ind=0):\n",
    "    \"\"\"\n",
    "    A function for plotting aspects of the forward simulation\n",
    "    \"\"\"\n",
    "    fig, ax = plt.subplots(2, 1, figsize=(12, 8))\n",
    "    \n",
    "    pcolor_opts = {}\n",
    "    view = \"real\" \n",
    "    v_type = \"CC\"\n",
    "    \n",
    "    source = survey.source_list[source_ind]\n",
    "    \n",
    "    # plotting resistivities\n",
    "    if field == \"model\":\n",
    "        plotme = rho\n",
    "        if primsec == \"primary\":\n",
    "            plotme = model_background\n",
    "        elif primsec == \"secondary\":\n",
    "            plotme = plotme - model_background\n",
    "        \n",
    "        if scale.lower() == \"log\":\n",
    "            pcolor_opts[\"norm\"] = LogNorm()\n",
    "            \n",
    "    # plotting the physics\n",
    "    else:\n",
    "        if primsec in [\"total\", \"secondary\"]:\n",
    "            plotme = fields[source, field]\n",
    "            if primsec == \"secondary\":\n",
    "                plotme -= fields_background[source, field]\n",
    "        else:\n",
    "            plotme = fields_background[source, field]\n",
    "                \n",
    "        # average the potentials to cell centers from Nodes\n",
    "        if field == \"phi\": \n",
    "            plotme = mesh.aveN2CC * plotme\n",
    "            \n",
    "        # average the fields to cell centers\n",
    "        elif field in [\"j\", \"e\"]:\n",
    "            view = \"vec\"\n",
    "            vType = \"CCv\"\n",
    "            plotme = mesh.aveE2CCV * plotme\n",
    "            \n",
    "            if scale.lower() == \"log\":\n",
    "                pcolor_opts[\"norm\"] = LogNorm()\n",
    "        \n",
    "        # set an intuitive colorbar for charges\n",
    "        elif field == \"charge_density\":\n",
    "            pcolor_opts[\"cmap\"] = \"RdBu_r\"\n",
    "        \n",
    "        # set a symmetric colorbar\n",
    "        if field in [\"phi\", \"charge_density\"]:\n",
    "            max_abs = np.abs(plotme).max()\n",
    "            if scale.lower() == \"linear\":\n",
    "                pcolor_opts[\"norm\"] = Normalize(vmin=-max_abs, vmax=max_abs)\n",
    "            if scale.lower() == \"log\": \n",
    "                pcolor_opts[\"norm\"] = SymLogNorm(\n",
    "                    linthresh=max_abs * 1e-3, vmin=-max_abs, vmax=max_abs\n",
    "                )\n",
    "    \n",
    "    # plot the physics\n",
    "    out = mesh.plot_image(\n",
    "        plotme, view=view, v_type=v_type, pcolor_opts=pcolor_opts, ax=ax[0], \n",
    "        range_x=core_domain_x, range_y=core_domain_z,\n",
    "    )\n",
    "    ax[0].plot([source.location_a[0], source.location_b[0]], np.r_[5, 5], \"vC3\", ms=8)\n",
    "    ax[0].set_ylim(core_domain_z + np.r_[-100, 0])\n",
    "    plt.colorbar(out[0], ax=ax[0], label=field, fraction=0.1, orientation=\"horizontal\", pad=0.25)\n",
    "    \n",
    "    \n",
    "    # plot a psuedosection of the data\n",
    "    rhoa_plot = apparent_resistivity_from_voltage(synthetic_data.survey, synthetic_data.dobs)\n",
    "    plot_pseudosection(\n",
    "        synthetic_data, dobs=rhoa_plot,\n",
    "        data_locations=True, ax=ax[1], \n",
    "    )\n",
    "    ax[1].set_title(f\"{line} Pseudosection\")\n",
    "    \n",
    "    for a in ax: \n",
    "        a.set_xlim(core_domain_x)\n",
    "        a.set_aspect(1.5)  # some vertical exxageration\n",
    "        a.set_xlabel(\"Northing (m)\")\n",
    "    \n",
    "    plt.tight_layout()"
   ]
  },
  {
   "cell_type": "code",
   "execution_count": null,
   "metadata": {},
   "outputs": [],
   "source": [
    "plot_physics(field=\"phi\", primsec=\"secondary\", source_ind=15)"
   ]
  },
  {
   "cell_type": "code",
   "execution_count": null,
   "metadata": {},
   "outputs": [],
   "source": [
    "dc_physics_app = ipywidgets.interactive(\n",
    "    plot_physics,\n",
    "    field=ipywidgets.ToggleButtons(options=[\"model\", \"j\", \"e\", \"charge_density\", \"phi\"], value=\"model\"),\n",
    "    primsec=ipywidgets.ToggleButtons(options=[\"total\", \"primary\", \"secondary\"], value=\"total\"),\n",
    "    scale=ipywidgets.ToggleButtons(options=[\"linear\", \"log\"]),\n",
    "    source_ind=ipywidgets.IntSlider(min=0, max=len(survey.source_list)-1, value=15),\n",
    ")"
   ]
  },
  {
   "cell_type": "markdown",
   "metadata": {},
   "source": [
    "#### Questions: Physics of DC\n",
    "\n",
    "- Where do currents preferentially flow?\n",
    "- Where do charges build up? How does that depend on the location of the source?\n"
   ]
  },
  {
   "cell_type": "code",
   "execution_count": null,
   "metadata": {},
   "outputs": [],
   "source": [
    "dc_physics_app"
   ]
  },
  {
   "cell_type": "markdown",
   "metadata": {},
   "source": [
    "## Homework ✏️\n",
    "\n",
    "What happens if you introduce a layer above the blocks? \n",
    "- Define a layer from z=-50 to z=-100. \n",
    "- Start with a resistive layer. \n",
    "    - How does that change the currents? charges? \n",
    "    - Do we still see the evidence of the blocks in the data (Hint: compare those data with a model that contains the layer but not the block)\n",
    "- Now try with a conductive layer.\n",
    "\n",
    "Send us your images and discussion on slack!"
   ]
  }
 ],
 "metadata": {
  "kernelspec": {
   "display_name": "Python 3 (ipykernel)",
   "language": "python",
   "name": "python3"
  },
  "language_info": {
   "codemirror_mode": {
    "name": "ipython",
    "version": 3
   },
   "file_extension": ".py",
   "mimetype": "text/x-python",
   "name": "python",
   "nbconvert_exporter": "python",
   "pygments_lexer": "ipython3",
   "version": "3.11.11"
  }
 },
 "nbformat": 4,
 "nbformat_minor": 4
}
